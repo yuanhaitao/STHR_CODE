{
 "cells": [
  {
   "cell_type": "code",
   "execution_count": 1,
   "metadata": {
    "collapsed": false
   },
   "outputs": [
    {
     "name": "stdout",
     "output_type": "stream",
     "text": [
      "['', '/usr/local/spark/spark2/python/lib', '/home/spark/hatim/notebook/ModelRoute/code', '/home/spark/hatim/notebook/fmm/build/python', '/home/hatim/anaconda3/lib/python35.zip', '/home/hatim/anaconda3/lib/python3.5', '/home/hatim/anaconda3/lib/python3.5/plat-linux', '/home/hatim/anaconda3/lib/python3.5/lib-dynload', '/home/spark/.local/lib/python3.5/site-packages', '/home/hatim/anaconda3/lib/python3.5/site-packages', '/home/hatim/anaconda3/lib/python3.5/site-packages/Sphinx-1.4.6-py3.5.egg', '/home/hatim/anaconda3/lib/python3.5/site-packages/GDAL-2.4.2-py3.5-linux-x86_64.egg', '/home/hatim/anaconda3/lib/python3.5/site-packages/setuptools-27.2.0-py3.5.egg', '/home/hatim/anaconda3/lib/python3.5/site-packages/IPython/extensions', '/home/spark/.ipython']\n"
     ]
    }
   ],
   "source": [
    "import sys\n",
    "print(sys.path)"
   ]
  },
  {
   "cell_type": "markdown",
   "metadata": {
    "collapsed": true
   },
   "source": [
    "#### load data from HDFS"
   ]
  },
  {
   "cell_type": "code",
   "execution_count": null,
   "metadata": {
    "collapsed": true
   },
   "outputs": [],
   "source": [
    "import pyspark\n",
    "from pyspark import SparkContext\n",
    "from pyspark import SparkConf\n",
    "# from pyspark.sql import SparkSession\n",
    "import os\n",
    "os.environ['SPARK_HOME'] = '/usr/local/spark/spark2'\n",
    "conf=SparkConf().setAppName(\"loadTrajectory\").setMaster(\"spark://172.6.31.10:7077\").set('spark.executor.memory','100G').set('spark.executor.cores','10').set('spark.driver.memory','100G')\n",
    "sc=SparkContext.getOrCreate(conf)"
   ]
  },
  {
   "cell_type": "code",
   "execution_count": null,
   "metadata": {
    "collapsed": true
   },
   "outputs": [],
   "source": []
  },
  {
   "cell_type": "markdown",
   "metadata": {
    "collapsed": true
   },
   "source": [
    "#### generate-map-matching-data"
   ]
  },
  {
   "cell_type": "code",
   "execution_count": null,
   "metadata": {
    "collapsed": true
   },
   "outputs": [],
   "source": []
  }
 ],
 "metadata": {
  "anaconda-cloud": {},
  "kernelspec": {
   "display_name": "Python [default]",
   "language": "python",
   "name": "python3"
  },
  "language_info": {
   "codemirror_mode": {
    "name": "ipython",
    "version": 3
   },
   "file_extension": ".py",
   "mimetype": "text/x-python",
   "name": "python",
   "nbconvert_exporter": "python",
   "pygments_lexer": "ipython3",
   "version": "3.5.2"
  },
  "latex_envs": {
   "LaTeX_envs_menu_present": true,
   "autoclose": false,
   "autocomplete": true,
   "bibliofile": "biblio.bib",
   "cite_by": "apalike",
   "current_citInitial": 1,
   "eqLabelWithNumbers": true,
   "eqNumInitial": 1,
   "hotkeys": {
    "equation": "Ctrl-E",
    "itemize": "Ctrl-I"
   },
   "labels_anchors": false,
   "latex_user_defs": false,
   "report_style_numbering": false,
   "user_envs_cfg": false
  },
  "toc": {
   "base_numbering": 1,
   "nav_menu": {},
   "number_sections": true,
   "sideBar": true,
   "skip_h1_title": false,
   "title_cell": "Table of Contents",
   "title_sidebar": "Contents",
   "toc_cell": false,
   "toc_position": {
    "height": "calc(100% - 180px)",
    "left": "10px",
    "top": "150px",
    "width": "165px"
   },
   "toc_section_display": true,
   "toc_window_display": true
  }
 },
 "nbformat": 4,
 "nbformat_minor": 1
}
